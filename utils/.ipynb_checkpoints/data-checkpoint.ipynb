{
 "cells": [
  {
   "cell_type": "code",
   "execution_count": 1,
   "metadata": {},
   "outputs": [
    {
     "ename": "ModuleNotFoundError",
     "evalue": "No module named 'BiLSTM_CRF'",
     "output_type": "error",
     "traceback": [
      "\u001b[0;31m---------------------------------------------------------------------------\u001b[0m",
      "\u001b[0;31mModuleNotFoundError\u001b[0m                       Traceback (most recent call last)",
      "\u001b[0;32m<ipython-input-1-6bbab2cf27e7>\u001b[0m in \u001b[0;36m<module>\u001b[0;34m\u001b[0m\n\u001b[1;32m      9\u001b[0m \u001b[0;34m\u001b[0m\u001b[0m\n\u001b[1;32m     10\u001b[0m \u001b[0;34m\u001b[0m\u001b[0m\n\u001b[0;32m---> 11\u001b[0;31m \u001b[0;32mfrom\u001b[0m \u001b[0mBiLSTM_CRF\u001b[0m \u001b[0;32mimport\u001b[0m \u001b[0mBiLSTM_CRF\u001b[0m\u001b[0;34m\u001b[0m\u001b[0;34m\u001b[0m\u001b[0m\n\u001b[0m",
      "\u001b[0;31mModuleNotFoundError\u001b[0m: No module named 'BiLSTM_CRF'"
     ]
    }
   ],
   "source": [
    "import os\n",
    "import json\n",
    "import numpy as np\n",
    "from pathlib import Path\n",
    "\n",
    "import torch\n",
    "import torch.nn as nn\n",
    "import torch.utils.data as Data\n",
    "\n",
    "\n",
    "from BiLSTM_CRF import BiLSTM_CRF"
   ]
  },
  {
   "cell_type": "code",
   "execution_count": null,
   "metadata": {},
   "outputs": [],
   "source": [
    "def load_json(data_path):\n",
    "    data = []\n",
    "    with open(data_path) as f:\n",
    "        for line in f:\n",
    "            data.append(json.loads(line))\n",
    "    return data\n",
    "            \n",
    "# def save_json(save_path, data, json_type):\n",
    "\n",
    "def json_to_input(data_path, tag_to_ix, tag_type='BIO'):\n",
    "    data = load_json(data_path)\n",
    "    sentence = []\n",
    "    label = []\n",
    "    for d in data:\n",
    "        _sentence = [w for w in d['text']]\n",
    "        sentence.append(_sentence)\n",
    "        if tag_type == 'BIO':\n",
    "            sen_len = len(d['text'])\n",
    "            _label = torch.full((1, sen_len), tag_to_ix['O'], dtype=torch.long)\n",
    "#             _label[0][0] = tag_to_ix['START_TAG']\n",
    "#             _label[0][sen_len + 1] = tag_to_ix['STOP_TAG']\n",
    "            for entity in d['label']:\n",
    "                dic = d['label'][entity]\n",
    "                for obj in dic:\n",
    "                    index = dic[obj]\n",
    "                    _label[0][index[0][0]] = tag_to_ix['B_' + entity]\n",
    "                    _label[0][index[0][0] + 1: index[0][1] + 1] = tag_to_ix['I_' + entity]\n",
    "            label.append(_label)\n",
    "            \n",
    "    return sentence, label\n",
    "            \n",
    "tag_to_ix = {'START_TAG':0, 'STOP_TAG':1, 'O':2,\n",
    "             'B_address':3, 'I_address':4,\n",
    "             'B_book':5, 'I_book':6, \n",
    "             'B_company':7, 'I_company':8, \n",
    "             'B_game':9, 'I_game':10, \n",
    "             'B_government':11, 'I_government':12,\n",
    "             'B_movie':13, 'I_movie':14, \n",
    "             'B_name':15, 'I_name':16, \n",
    "             'B_organization':17, 'I_organization':18, \n",
    "             'B_position':19, 'I_position':20, \n",
    "             'B_scene':21, 'I_scene':22}\n",
    "# json_to_input('../data/test.json', tag_to_ix)"
   ]
  },
  {
   "cell_type": "code",
   "execution_count": 101,
   "metadata": {},
   "outputs": [],
   "source": [
    "class NER_Dataset(Data.Dataset):\n",
    "    def __init__(self, data, train=True):\n",
    "        sentence, label = data\n",
    "        self.x_data = sentence\n",
    "        self.y_data = label\n",
    "    \n",
    "    def __getitem__(self, index):\n",
    "        return self.x_data[index], self.y_data[index]\n",
    "    \n",
    "    def __len__(self):\n",
    "        return len(self.x_data)\n",
    "\n",
    "def kfold_cross_data(dataset, k, ith):\n",
    "    assert k > 1\n",
    "    total_datalen = len(dataset)\n",
    "    kfold_datalen = total_datalen // k\n",
    "    indices = list(range(total_datalen))\n",
    "    valid_indices = indices[ith*kfold_datalen: (ith + 1)*kfold_datalen]\n",
    "    train_indices = [i for i in indices if i not in valid_indices]\n",
    "    \n",
    "    train_sampler = Data.SubsetRandomSampler(train_indices)\n",
    "    valid_sampler = Data.SubsetRandomSampler(valid_indices)\n",
    "    \n",
    "    train_loader = Data.DataLoader(dataset, batch_size=1, sampler=train_sampler)\n",
    "    valid_loader = Data.DataLoader(dataset, batch_size=1, sampler=train_sampler)\n",
    "    \n",
    "    return train_loader, valid_loader"
   ]
  },
  {
   "cell_type": "code",
   "execution_count": 100,
   "metadata": {},
   "outputs": [],
   "source": [
    "def gen_Vocab(data_loader):\n",
    "    word_to_ix = {}\n",
    "    for data in train_loader:\n",
    "        sentence, label = data\n",
    "        for word in sentence:\n",
    "            w = word[0]\n",
    "            if w not in word_to_ix:\n",
    "                word_to_ix[w] = len(word_to_ix)\n",
    "    return word_to_ix\n",
    "\n",
    "def sentence_to_ix(sentence, word_to_ix):\n",
    "    s_ix = [word_to_ix[w[0]] for w in sentence]\n",
    "    if torch.cuda.is_available():\n",
    "        return torch.LongTensor(s_ix).cuda()\n",
    "    return torch.LongTensor(s_ix)"
   ]
  },
  {
   "cell_type": "code",
   "execution_count": 102,
   "metadata": {},
   "outputs": [
    {
     "name": "stdout",
     "output_type": "stream",
     "text": [
      "3614\n",
      "tensor([[-0.2141, -1.0486, -0.0853,  ...,  0.3797, -1.3729,  0.8925],\n",
      "        [-1.0932, -1.3334,  2.0661,  ..., -0.4846,  2.3866,  0.0946],\n",
      "        [ 1.1805, -0.4663, -0.7253,  ..., -0.4255,  0.7412, -0.8914],\n",
      "        ...,\n",
      "        [ 0.4397, -0.7619, -1.0359,  ...,  0.2297, -1.9592,  0.8792],\n",
      "        [-0.3394,  0.6394,  0.4437,  ...,  0.0602, -0.8500,  0.5847],\n",
      "        [ 0.0118,  2.1638,  0.2469,  ..., -0.5092, -0.6489,  0.6706]],\n",
      "       grad_fn=<EmbeddingBackward>)\n",
      "torch.Size([47, 128])\n"
     ]
    }
   ],
   "source": [
    "data = json_to_input('../data/train.json', tag_to_ix)\n",
    "NER_dataset = NER_Dataset(data)\n",
    "train_loader, valid_loader = kfold_cross_data(NER_dataset, 10, 0)\n",
    "word_to_ix = gen_Vocab(train_loader)\n",
    "vocab_size = len(word_to_ix)\n",
    "print(vocab_size)\n",
    "embedding_dim = 128\n",
    "word_embeds = nn.Embedding(vocab_size, embedding_dim)\n",
    "\n",
    "for data in train_loader:\n",
    "    s, l = data\n",
    "    s = sentence_to_ix(s, word_to_ix)\n",
    "    "
   ]
  },
  {
   "cell_type": "code",
   "execution_count": null,
   "metadata": {},
   "outputs": [],
   "source": []
  },
  {
   "cell_type": "code",
   "execution_count": null,
   "metadata": {},
   "outputs": [],
   "source": []
  }
 ],
 "metadata": {
  "kernelspec": {
   "display_name": "pytorch",
   "language": "python",
   "name": "pytorch"
  },
  "language_info": {
   "codemirror_mode": {
    "name": "ipython",
    "version": 3
   },
   "file_extension": ".py",
   "mimetype": "text/x-python",
   "name": "python",
   "nbconvert_exporter": "python",
   "pygments_lexer": "ipython3",
   "version": "3.6.9"
  }
 },
 "nbformat": 4,
 "nbformat_minor": 2
}
